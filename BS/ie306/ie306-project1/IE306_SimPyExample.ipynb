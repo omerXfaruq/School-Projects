{
 "cells": [
  {
   "cell_type": "markdown",
   "metadata": {},
   "source": [
    "# SimPy Example for IE 306.02\n",
    "This example shows how a simple G/G/1 system (1 server with an infinite capacity queue, random interarrival and service times) can be modeled with a process-interaction view using the SimPy library. \n",
    "\n",
    "In this example customers place calls to the call center of a company at randomn times. There is only a single operator in this call center, and picks up the first call waiting when she is available. The customers are assumed to be extremely paint, as they wait as long as it gets to talk to the operator."
   ]
  },
  {
   "cell_type": "code",
   "execution_count": 1,
   "metadata": {},
   "outputs": [],
   "source": [
    "import simpy\n",
    "import random"
   ]
  },
  {
   "cell_type": "markdown",
   "metadata": {},
   "source": [
    "Define a set of globals that define the characteristics of the model instance to be simulated. This includes the seed (RANDOM_SEED) for the random number generators, and key parameters for the interarrival (i.e. mean arrival rate) and service time (i.e. lower and upper bounds for the range) distribution."
   ]
  },
  {
   "cell_type": "code",
   "execution_count": 2,
   "metadata": {},
   "outputs": [],
   "source": [
    "RANDOM_SEED = 978\n",
    "INTERARRIVAL_RATE = 0.1 \n",
    "SERVICE_RANGE = [50, 90]\n",
    "random.seed(RANDOM_SEED)"
   ]
  },
  {
   "cell_type": "markdown",
   "metadata": {},
   "source": [
    "Define the necessary set of arrays for bookkeeping"
   ]
  },
  {
   "cell_type": "code",
   "execution_count": 3,
   "metadata": {},
   "outputs": [],
   "source": [
    "service_times = [] #Duration of the conversation between the customer and the operator (Service time)\n",
    "queue_w_times = [] #Time spent by a customer while it waits for the operator (Queue waiting time Wq)"
   ]
  },
  {
   "cell_type": "markdown",
   "metadata": {},
   "source": [
    "* The class definition for the customers arriving at the modeled system. When they are created, they immediatelly initiate a call (i.e. activate the call process). \n",
    "\n",
    "* Once a call is initiated, this is registered as a request to the operator resource. The customer is put on hold until the resource activates it back. \n",
    "\n",
    "* When the resource is available, the customer is activated and it then initiates the ask_question process. The duration of a question-answer session is determined randomly according to a uniform distribution."
   ]
  },
  {
   "cell_type": "code",
   "execution_count": 129,
   "metadata": {},
   "outputs": [],
   "source": [
    "class Customer(object):\n",
    "    def __init__(self, name, env, opr):\n",
    "        self.env = env\n",
    "        self.name = name\n",
    "        self.arrival_t = self.env.now\n",
    "        self.action = env.process(self.call())\n",
    "    \n",
    "    \n",
    "    def call(self):\n",
    "        print('%s initiated a call at %g' % (self.name, self.env.now))\n",
    " \n",
    "        with operator.request() as req:\n",
    "            yield req\n",
    "            print('%s is assigned to an operator at %g' % (self.name, self.env.now))\n",
    "            queue_w_times.append(self.env.now - self.arrival_t)\n",
    "            yield self.env.process(self.ask_question())\n",
    "            print('%s is done at %g' % (self.name, self.env.now))\n",
    "            \n",
    "    def ask_question(self):\n",
    "        duration = random.uniform(*SERVICE_RANGE)\n",
    "        yield self.env.timeout(duration)\n",
    "        service_times.append(duration)\n",
    "        \n",
    "        "
   ]
  },
  {
   "cell_type": "code",
   "execution_count": 130,
   "metadata": {},
   "outputs": [],
   "source": [
    "def customer_generator(env, operator):\n",
    "    \"\"\"Generate new cars that arrive at the gas station.\"\"\"\n",
    "    for i in range(10):\n",
    "        yield env.timeout(random.expovariate(INTERARRIVAL_RATE))\n",
    "        customer = Customer('Cust %s' %(i+1), env, operator)  "
   ]
  },
  {
   "cell_type": "code",
   "execution_count": 131,
   "metadata": {},
   "outputs": [
    {
     "name": "stdout",
     "output_type": "stream",
     "text": [
      "Cust 1 initiated a call at 44.1894\n",
      "Cust 1 is assigned to an operator at 44.1894\n",
      "Cust 2 initiated a call at 45.8734\n",
      "Cust 3 initiated a call at 62.0814\n",
      "Cust 4 initiated a call at 69.7013\n",
      "Cust 5 initiated a call at 75.4224\n",
      "Cust 6 initiated a call at 91.9224\n",
      "Cust 1 is done at 97.9088\n",
      "Cust 2 is assigned to an operator at 97.9088\n",
      "Cust 7 initiated a call at 109.484\n",
      "Cust 8 initiated a call at 115.873\n",
      "Cust 9 initiated a call at 116.609\n",
      "Cust 10 initiated a call at 136.475\n",
      "Cust 2 is done at 172.276\n",
      "Cust 3 is assigned to an operator at 172.276\n",
      "Cust 3 is done at 229.78\n",
      "Cust 4 is assigned to an operator at 229.78\n",
      "Cust 4 is done at 315.98\n",
      "Cust 5 is assigned to an operator at 315.98\n",
      "Cust 5 is done at 376.526\n",
      "Cust 6 is assigned to an operator at 376.526\n",
      "Cust 6 is done at 441.072\n",
      "Cust 7 is assigned to an operator at 441.072\n",
      "Cust 7 is done at 523.873\n",
      "Cust 8 is assigned to an operator at 523.873\n",
      "Cust 8 is done at 603.025\n",
      "Cust 9 is assigned to an operator at 603.025\n",
      "Cust 9 is done at 691.986\n",
      "Cust 10 is assigned to an operator at 691.986\n",
      "Cust 10 is done at 772.132\n"
     ]
    }
   ],
   "source": [
    "env = simpy.Environment()\n",
    "operator = simpy.Resource(env, capacity = 1)\n",
    "env.process(customer_generator(env, operator))\n",
    "env.run() "
   ]
  },
  {
   "cell_type": "code",
   "execution_count": 125,
   "metadata": {},
   "outputs": [
    {
     "name": "stdout",
     "output_type": "stream",
     "text": [
      "[0.0, 52.035354931146024, 110.1948451847324, 160.07892668870812, 240.55796255507212, 284.6039007134052, 331.58790736643346, 408.0003801503316, 486.4154249382668, 555.5113070098521, 0.0, 46.06435021197851, 100.81374880663847, 165.43206513461266, 215.89896415211186, 274.73277374614304, 323.67864703565846, 399.13748225202175, 455.94973693899067, 525.5860737687431]\n"
     ]
    }
   ],
   "source": [
    "print queue_w_times"
   ]
  },
  {
   "cell_type": "code",
   "execution_count": 123,
   "metadata": {},
   "outputs": [
    {
     "name": "stdout",
     "output_type": "stream",
     "text": [
      "[53.719422936944206, 74.36745758097598, 57.50398356266595, 86.20015959138377, 60.54594847560017, 64.54573727938265, 82.80127819535485, 79.15142152985119, 88.96147734612259, 80.14527961665469]\n"
     ]
    }
   ],
   "source": [
    "print service_times"
   ]
  },
  {
   "cell_type": "code",
   "execution_count": null,
   "metadata": {},
   "outputs": [],
   "source": []
  }
 ],
 "metadata": {
  "kernelspec": {
   "display_name": "Python 3",
   "language": "python",
   "name": "python3"
  },
  "language_info": {
   "codemirror_mode": {
    "name": "ipython",
    "version": 3
   },
   "file_extension": ".py",
   "mimetype": "text/x-python",
   "name": "python",
   "nbconvert_exporter": "python",
   "pygments_lexer": "ipython3",
   "version": "3.7.1"
  }
 },
 "nbformat": 4,
 "nbformat_minor": 2
}
