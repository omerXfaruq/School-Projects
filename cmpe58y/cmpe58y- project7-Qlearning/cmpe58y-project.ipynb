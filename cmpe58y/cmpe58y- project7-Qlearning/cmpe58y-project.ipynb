{
 "cells": [
  {
   "cell_type": "markdown",
   "metadata": {},
   "source": [
    "cmpe58y Final Project MountainCar Q-Learning\n",
    "\n",
    "\n",
    "Ömer Faruk Özdemir\n",
    "\n"
   ]
  },
  {
   "cell_type": "code",
   "execution_count": 1,
   "metadata": {},
   "outputs": [],
   "source": [
    "import gym\n",
    "import numpy as np\n",
    "import math\n",
    "import random\n",
    "import matplotlib.pyplot as plt\n",
    "\n",
    "env = gym.make(\"MountainCar-v0\")\n",
    "#Use the pole angle and pole angle speed data\n",
    "#Position and velocity of the cart is a little side objective, and can be solved by solving pole angle&angle velocity\n",
    "\n",
    "\n",
    "upperBounds=env.observation_space.high\n",
    "lowerBounds=env.observation_space.low\n",
    "\n",
    "featuresDiscreteNo=20\n",
    "actionNo=3\n",
    "featureNo=2\n",
    "#there are 2 features, 3 actions\n",
    "QMAP=np.zeros(shape=tuple(np.append(np.repeat(featuresDiscreteNo,featureNo),actionNo)))\n",
    "\n",
    "gama=0.95\n",
    "\n",
    "#Epsilon starts with 1 and drops to 0.1 with time\n",
    "def chooseEpsilon(time):\n",
    "    return 0.99 ** time\n",
    "#Alpha starts with 1 and drops to 0.1 with time\n",
    "def chooseAlpha(time):\n",
    "    return 0.1\n",
    "# return max(0.1,min(1.0,1.0- math.log10((1+time)/10)))\n",
    "\n",
    "#Discretize States to [0,featuresDiscreteNo-1]\n",
    "def discretizeState(state):\n",
    "    discrete=state%(upperBounds-lowerBounds)\n",
    "    discrete=discrete/(upperBounds-lowerBounds)*featuresDiscreteNo\n",
    "    discrete=np.minimum(discrete,np.repeat(featuresDiscreteNo-1,featureNo))\n",
    "    discrete=discrete.astype(int)\n",
    "    return discrete\n",
    "\n",
    "#Choose random action with probabilty epsilon\n",
    "def chooseAction(epsilon,stateConditions):\n",
    "    if np.random.random()<epsilon:\n",
    "        return int(np.random.random()*2)\n",
    "    else:\n",
    "        return np.argmax(QMAP[tuple(stateConditions)])\n",
    "\n",
    "#Update QMAP\n",
    "def updateQMAP(oldStateConditions,newStateConditions,action,reward,alpha):\n",
    "    change=alpha*(reward+gama*np.max(QMAP[tuple(newStateConditions)])-QMAP[tuple(oldStateConditions)][action])\n",
    "    QMAP[tuple(oldStateConditions)][action]+=change"
   ]
  },
  {
   "cell_type": "code",
   "execution_count": 2,
   "metadata": {},
   "outputs": [
    {
     "name": "stdout",
     "output_type": "stream",
     "text": [
      "Lets plot times for reaching objective per episode\n"
     ]
    },
    {
     "data": {
      "image/png": "[encoded data removed]",
      "text/plain": [
       "<Figure size 432x288 with 1 Axes>"
      ]
     },
     "metadata": {
      "needs_background": "light"
     },
     "output_type": "display_data"
    }
   ],
   "source": [
    "#How many rounds does it take to reach objective position\n",
    "plotData=np.zeros(500)\n",
    "\n",
    "accumulatedReward=0\n",
    "#First 500 episode, mainly for training\n",
    "for episode in range(500):\n",
    "    alpha=chooseAlpha(episode)\n",
    "    epsilon=chooseEpsilon(episode)\n",
    "    oldObservation=env.reset()\n",
    "    oldStateConditions=discretizeState(oldObservation)\n",
    "    finished=False\n",
    "    for timeStep in range(1000):\n",
    "        #env.render()\n",
    "        action=chooseAction(epsilon,oldStateConditions)\n",
    "        newObservation, reward, done, info = env.step(action)\n",
    "        #reward=-timeStep\n",
    "        if done:\n",
    "        #Punish left position limit harsh\n",
    "            if newObservation[0]==-1.2:\n",
    "                reward=-10\n",
    "            #Reward reaching objective position high, and finish episode\n",
    "            if newObservation[0]>0.5:\n",
    "                reward=1000\n",
    "                finished=True\n",
    "            #Punish passing round 200\n",
    "            else:\n",
    "                reward=-10\n",
    "\n",
    "        newStateConditions=discretizeState(newObservation)\n",
    "        updateQMAP(oldStateConditions,newStateConditions,action,reward,alpha)\n",
    "        oldStateConditions=newStateConditions\n",
    "        if finished:\n",
    "            plotData[episode]=timeStep\n",
    "            break\n",
    "            \n",
    "print(\"Lets plot times for reaching objective per episode\")\n",
    "plt.plot(plotData)\n",
    "plt.show()"
   ]
  },
  {
   "cell_type": "code",
   "execution_count": 3,
   "metadata": {},
   "outputs": [
    {
     "name": "stdout",
     "output_type": "stream",
     "text": [
      "Lastly a visualization for 15 times\n",
      "Reached objective in timestep 284\n",
      "Reached objective in timestep 283\n",
      "Reached objective in timestep 169\n",
      "Reached objective in timestep 182\n",
      "Reached objective in timestep 168\n",
      "Reached objective in timestep 204\n",
      "Reached objective in timestep 169\n",
      "Reached objective in timestep 288\n",
      "Reached objective in timestep 166\n",
      "Reached objective in timestep 226\n",
      "Reached objective in timestep 300\n",
      "Reached objective in timestep 223\n",
      "Reached objective in timestep 222\n",
      "Reached objective in timestep 190\n",
      "Reached objective in timestep 198\n",
      "Reached objective at this ratio in 1000 timesteps: % 100.0\n",
      "Average reaching time: 218.13333333333333\n"
     ]
    }
   ],
   "source": [
    "\n",
    "numberOfSuccess=0\n",
    "averageReachingTime=0\n",
    "accumulatedReward=0\n",
    "print(\"Lastly a visualization for 15 times\")\n",
    "#For rendering the power of the bot in 1k tick\n",
    "for time in range(1001,1016):\n",
    "\troundSurvival=0\n",
    "\talpha=chooseAlpha(time)\n",
    "\tepsilon=chooseEpsilon(time)\n",
    "\toldObservation=env.reset()\n",
    "\toldStateConditions=discretizeState(oldObservation)\n",
    "    \n",
    "\tfor survival in range(1000):\t\t\n",
    "\t\tenv.render()\n",
    "\t\taction=chooseAction(epsilon,oldStateConditions)\n",
    "\t\tnewObservation, reward, done, info = env.step(action)\n",
    "\t\t#Objective of position is >0.5\n",
    "\t\taccumulatedReward+=reward\n",
    "\t\troundSurvival+=reward\n",
    "\t\tnewStateConditions=discretizeState(newObservation)\n",
    "\t\toldStateConditions=newStateConditions\n",
    "        \n",
    "\t\tif done and newObservation[0]>0.5:\n",
    "\t\t\tprint(\"Reached objective in timestep\",survival)\n",
    "\t\t\tenv.render()\n",
    "\t\t\tenv.reset()\n",
    "\t\t\tnumberOfSuccess+=1\n",
    "\t\t\taverageReachingTime+=survival\n",
    "\t\t\tbreak\n",
    "print(\"Reached objective at this ratio in 1000 timesteps: %\",numberOfSuccess/15*100)\n",
    "print(\"Average reaching time:\",averageReachingTime/numberOfSuccess)\n",
    "env.close()"
   ]
  },
  {
   "cell_type": "markdown",
   "metadata": {},
   "source": [
    "# ----------------------------------------------------------------------\n",
    "This model takes -1 rewards for every timestep that it havent reach objective yet.\n",
    "\n",
    "I added +1000 reward for reaching objective, to reward path to objective.\n",
    "\n",
    "When I trained it like this it was abusing left wall quite a lot, it was hitting it, trespassing the boundaries.\n",
    "\n",
    "Later I added -1000 reward as punishment for touching left wall.\n",
    "\n",
    "However this caused for model to reach objective quite late. Because it was trying to avoid getting closer to left wall.\n",
    "\n",
    "Then I reduced this punishment to -10.\n",
    "\n",
    "Also I added -10 reward for passing round 200, so that it reaches the objective faster. It was reaching objective 200 timesteps in average.\n",
    "\n",
    "Later for increasing this speed I changed default reward to \"reward=-timeStep\", this decreased average time for finish to ~170. But this was not stable and was causing low speed sometimes, so I reverted this."
   ]
  }
 ],
 "metadata": {
  "kernelspec": {
   "display_name": "Python 3",
   "language": "python",
   "name": "python3"
  },
  "language_info": {
   "codemirror_mode": {
    "name": "ipython",
    "version": 3
   },
   "file_extension": ".py",
   "mimetype": "text/x-python",
   "name": "python",
   "nbconvert_exporter": "python",
   "pygments_lexer": "ipython3",
   "version": "3.8.2"
  }
 },
 "nbformat": 4,
 "nbformat_minor": 4
}
